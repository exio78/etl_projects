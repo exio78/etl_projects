{
 "cells": [
  {
   "cell_type": "code",
   "execution_count": 1,
   "id": "966866c0",
   "metadata": {},
   "outputs": [],
   "source": [
    "import pandas as pd\n",
    "import numpy as np\n",
    "import matplotlib.pyplot as plt\n",
    "%matplotlib inline\n",
    "import seaborn as sns"
   ]
  },
  {
   "cell_type": "code",
   "execution_count": 2,
   "id": "b64b0022",
   "metadata": {},
   "outputs": [],
   "source": [
    "men = pd.read_csv(\"men_running_shoes.csv\")\n",
    "women = pd.read_csv(\"women_running_shoes.csv\")"
   ]
  },
  {
   "cell_type": "markdown",
   "id": "70dc4ab3",
   "metadata": {},
   "source": [
    "**I changed these two csv files to consider only those unique running shoes regarding their titles because we have some duplicated values**"
   ]
  },
  {
   "cell_type": "code",
   "execution_count": 3,
   "id": "5ff9699f",
   "metadata": {},
   "outputs": [
    {
     "data": {
      "text/plain": [
       "655"
      ]
     },
     "execution_count": 3,
     "metadata": {},
     "output_type": "execute_result"
    }
   ],
   "source": [
    "men[\"title\"].duplicated().sum()"
   ]
  },
  {
   "cell_type": "code",
   "execution_count": 4,
   "id": "d6fe3d6a",
   "metadata": {},
   "outputs": [
    {
     "data": {
      "text/plain": [
       "660"
      ]
     },
     "execution_count": 4,
     "metadata": {},
     "output_type": "execute_result"
    }
   ],
   "source": [
    "women[\"title\"].duplicated().sum()"
   ]
  },
  {
   "cell_type": "code",
   "execution_count": 5,
   "id": "fe19f42e",
   "metadata": {},
   "outputs": [
    {
     "data": {
      "text/html": [
       "<div>\n",
       "<style scoped>\n",
       "    .dataframe tbody tr th:only-of-type {\n",
       "        vertical-align: middle;\n",
       "    }\n",
       "\n",
       "    .dataframe tbody tr th {\n",
       "        vertical-align: top;\n",
       "    }\n",
       "\n",
       "    .dataframe thead th {\n",
       "        text-align: right;\n",
       "    }\n",
       "</style>\n",
       "<table border=\"1\" class=\"dataframe\">\n",
       "  <thead>\n",
       "    <tr style=\"text-align: right;\">\n",
       "      <th></th>\n",
       "      <th>title</th>\n",
       "      <th>brand</th>\n",
       "      <th>model</th>\n",
       "      <th>price</th>\n",
       "      <th>discount</th>\n",
       "      <th>discount_%</th>\n",
       "      <th>sex</th>\n",
       "      <th>colour</th>\n",
       "      <th>cushioning</th>\n",
       "      <th>stability</th>\n",
       "      <th>best_use_surface</th>\n",
       "      <th>midsole</th>\n",
       "      <th>outsole</th>\n",
       "      <th>upper</th>\n",
       "      <th>link_shoes</th>\n",
       "    </tr>\n",
       "  </thead>\n",
       "  <tbody>\n",
       "    <tr>\n",
       "      <th>0</th>\n",
       "      <td>adidas adizero Prime X Strung</td>\n",
       "      <td>adidas</td>\n",
       "      <td>adizero Prime X Strung</td>\n",
       "      <td>299.95</td>\n",
       "      <td>0.00</td>\n",
       "      <td>0.00</td>\n",
       "      <td>unisex</td>\n",
       "      <td>Pulse Mint</td>\n",
       "      <td>Maximal</td>\n",
       "      <td>Neutral</td>\n",
       "      <td>Fast Runs,Cushioned Comfort,Racing,Roads and P...</td>\n",
       "      <td>Lightstrike Profoam compound offers high rebou...</td>\n",
       "      <td>Continental Rubber offers flexible durability ...</td>\n",
       "      <td>One-Piece Strung Upperis engineered using inno...</td>\n",
       "      <td>https://www.runningwarehouse.com/adidas_adizer...</td>\n",
       "    </tr>\n",
       "    <tr>\n",
       "      <th>1</th>\n",
       "      <td>adidas adizero Adios Pro 3</td>\n",
       "      <td>adidas</td>\n",
       "      <td>adizero Adios Pro 3</td>\n",
       "      <td>250.00</td>\n",
       "      <td>175.00</td>\n",
       "      <td>70.00</td>\n",
       "      <td>unisex</td>\n",
       "      <td>White Tint/Blk</td>\n",
       "      <td>High</td>\n",
       "      <td>Neutral</td>\n",
       "      <td>Racing,Roads and Pavement</td>\n",
       "      <td>LightstrikePROis a lightweight midsole compoun...</td>\n",
       "      <td>Rubberin the forefootoffers flexible durabilit...</td>\n",
       "      <td>Single-Layer Celermeshis lightweight, breathab...</td>\n",
       "      <td>https://www.runningwarehouse.com/adidas_adizer...</td>\n",
       "    </tr>\n",
       "    <tr>\n",
       "      <th>2</th>\n",
       "      <td>adidas adizero Takumi Sen 9</td>\n",
       "      <td>adidas</td>\n",
       "      <td>adizero Takumi Sen 9</td>\n",
       "      <td>179.95</td>\n",
       "      <td>0.00</td>\n",
       "      <td>0.00</td>\n",
       "      <td>unisex</td>\n",
       "      <td>Pulse Mint</td>\n",
       "      <td>Medium</td>\n",
       "      <td>Neutral</td>\n",
       "      <td>Racing,Roads and Pavement</td>\n",
       "      <td>Lightstrike Prois a lightweight midsole compou...</td>\n",
       "      <td>Continental Rubberin the forefootoffers maximu...</td>\n",
       "      <td>Primegreenmesh is lightweight, breathable, and...</td>\n",
       "      <td>https://www.runningwarehouse.com/adidas_adizer...</td>\n",
       "    </tr>\n",
       "    <tr>\n",
       "      <th>3</th>\n",
       "      <td>adidas adizero Boston 11</td>\n",
       "      <td>adidas</td>\n",
       "      <td>adizero Boston 11</td>\n",
       "      <td>160.00</td>\n",
       "      <td>127.95</td>\n",
       "      <td>79.97</td>\n",
       "      <td>Men's Shoes</td>\n",
       "      <td>White/Black/Blue</td>\n",
       "      <td>High</td>\n",
       "      <td>Neutral</td>\n",
       "      <td>All Around,Fast Runs,Roads and Pavement</td>\n",
       "      <td>LightStrike Prois a lightweight midsole compou...</td>\n",
       "      <td>Continental Rubberoffers flexible durability w...</td>\n",
       "      <td>Lightweight Meshis breathable and supportive.</td>\n",
       "      <td>https://www.runningwarehouse.com/adidas_adizer...</td>\n",
       "    </tr>\n",
       "    <tr>\n",
       "      <th>4</th>\n",
       "      <td>adidas Adizero SL</td>\n",
       "      <td>adidas</td>\n",
       "      <td>Adizero SL</td>\n",
       "      <td>120.00</td>\n",
       "      <td>95.95</td>\n",
       "      <td>79.96</td>\n",
       "      <td>Men's Shoes</td>\n",
       "      <td>Solar Red/Ink/Blue</td>\n",
       "      <td>High</td>\n",
       "      <td>Neutral</td>\n",
       "      <td>All Around,Roads and Pavement</td>\n",
       "      <td>LIGHTSTRIKEfoam provides comfortably soft and ...</td>\n",
       "      <td>STRATEGICALLY PLACED RUBBER for optimized grip...</td>\n",
       "      <td>ENGINEERED MESH that is soft and adaptable wit...</td>\n",
       "      <td>https://www.runningwarehouse.com/adidas_Adizer...</td>\n",
       "    </tr>\n",
       "    <tr>\n",
       "      <th>...</th>\n",
       "      <td>...</td>\n",
       "      <td>...</td>\n",
       "      <td>...</td>\n",
       "      <td>...</td>\n",
       "      <td>...</td>\n",
       "      <td>...</td>\n",
       "      <td>...</td>\n",
       "      <td>...</td>\n",
       "      <td>...</td>\n",
       "      <td>...</td>\n",
       "      <td>...</td>\n",
       "      <td>...</td>\n",
       "      <td>...</td>\n",
       "      <td>...</td>\n",
       "      <td>...</td>\n",
       "    </tr>\n",
       "    <tr>\n",
       "      <th>327</th>\n",
       "      <td>Under Armour Flow Velociti Elite Unisex Shoes</td>\n",
       "      <td>Under Armour</td>\n",
       "      <td>Flow Velociti Elite Unisex Shoes</td>\n",
       "      <td>249.95</td>\n",
       "      <td>0.00</td>\n",
       "      <td>0.00</td>\n",
       "      <td>women</td>\n",
       "      <td>White/Bk</td>\n",
       "      <td>Medium</td>\n",
       "      <td>Neutral</td>\n",
       "      <td>Racing,Roads and Pavement</td>\n",
       "      <td>UA Super Critical Flow is lightweight, respons...</td>\n",
       "      <td>UA Super Critical Flow Foamhas excellent tract...</td>\n",
       "      <td>UA WARP 2.0 Upperprovides a breathable and lig...</td>\n",
       "      <td>https://www.runningwarehouse.com/Under_Armour_...</td>\n",
       "    </tr>\n",
       "    <tr>\n",
       "      <th>328</th>\n",
       "      <td>Under Armour Shakedown Elite Spikes</td>\n",
       "      <td>Under Armour</td>\n",
       "      <td>Shakedown Elite Spikes</td>\n",
       "      <td>149.95</td>\n",
       "      <td>0.00</td>\n",
       "      <td>0.00</td>\n",
       "      <td>unisex</td>\n",
       "      <td>White</td>\n",
       "      <td>NaN</td>\n",
       "      <td>NaN</td>\n",
       "      <td>800-1500m,Distance (3k-10k),Rubber</td>\n",
       "      <td>Pelletized Pebax Foamin the midsole creates a ...</td>\n",
       "      <td>Full-length Pebax plate providesa structured a...</td>\n",
       "      <td>UA WARP Upperprovides a breathable and lightwe...</td>\n",
       "      <td>https://www.runningwarehouse.com/Under_Armour_...</td>\n",
       "    </tr>\n",
       "    <tr>\n",
       "      <th>329</th>\n",
       "      <td>Under Armour HOVR Shakedown Spikes</td>\n",
       "      <td>Under Armour</td>\n",
       "      <td>HOVR Shakedown Spikes</td>\n",
       "      <td>119.95</td>\n",
       "      <td>0.00</td>\n",
       "      <td>0.00</td>\n",
       "      <td>unisex</td>\n",
       "      <td>Halo Gray</td>\n",
       "      <td>NaN</td>\n",
       "      <td>NaN</td>\n",
       "      <td>800-1500m,Distance (3k-10k),Steeplechase,Rubber</td>\n",
       "      <td>HOVR Cushioning System includes a soft UA HOVR...</td>\n",
       "      <td>Perimeter Pebax Plate provides traction and im...</td>\n",
       "      <td>Embroidered upper uses high-strength yarn for ...</td>\n",
       "      <td>https://www.runningwarehouse.com/Under_Armour_...</td>\n",
       "    </tr>\n",
       "    <tr>\n",
       "      <th>330</th>\n",
       "      <td>Under Armour HOVR Skyline LJ Spikes</td>\n",
       "      <td>Under Armour</td>\n",
       "      <td>HOVR Skyline LJ Spikes</td>\n",
       "      <td>99.95</td>\n",
       "      <td>0.00</td>\n",
       "      <td>0.00</td>\n",
       "      <td>unisex</td>\n",
       "      <td>Gray</td>\n",
       "      <td>NaN</td>\n",
       "      <td>NaN</td>\n",
       "      <td>NaN</td>\n",
       "      <td>HOVR Cushioning System includes a soft UA HOVR...</td>\n",
       "      <td>3/4 LX90 Pebax Plate provides stiffness for li...</td>\n",
       "      <td>Embroidered upper uses high-strength yarn for ...</td>\n",
       "      <td>https://www.runningwarehouse.com/Under_Armour_...</td>\n",
       "    </tr>\n",
       "    <tr>\n",
       "      <th>331</th>\n",
       "      <td>Under Armour Centric Grip Throw Shoes</td>\n",
       "      <td>Under Armour</td>\n",
       "      <td>Centric Grip Throw Shoes</td>\n",
       "      <td>89.95</td>\n",
       "      <td>0.00</td>\n",
       "      <td>0.00</td>\n",
       "      <td>unisex</td>\n",
       "      <td>Black</td>\n",
       "      <td>NaN</td>\n",
       "      <td>NaN</td>\n",
       "      <td>Shot Put/Discus/Hammer,Asphalt</td>\n",
       "      <td>HOVR Cushioning System includes a soft UA HOVR...</td>\n",
       "      <td>Durable Rubber provides traction and a smooth ...</td>\n",
       "      <td>Embroidered upper uses high-strength yarn for ...</td>\n",
       "      <td>https://www.runningwarehouse.com/Under_Armour_...</td>\n",
       "    </tr>\n",
       "  </tbody>\n",
       "</table>\n",
       "<p>332 rows × 15 columns</p>\n",
       "</div>"
      ],
      "text/plain": [
       "                                             title         brand  \\\n",
       "0                    adidas adizero Prime X Strung        adidas   \n",
       "1                       adidas adizero Adios Pro 3        adidas   \n",
       "2                      adidas adizero Takumi Sen 9        adidas   \n",
       "3                         adidas adizero Boston 11        adidas   \n",
       "4                                adidas Adizero SL        adidas   \n",
       "..                                             ...           ...   \n",
       "327  Under Armour Flow Velociti Elite Unisex Shoes  Under Armour   \n",
       "328            Under Armour Shakedown Elite Spikes  Under Armour   \n",
       "329             Under Armour HOVR Shakedown Spikes  Under Armour   \n",
       "330            Under Armour HOVR Skyline LJ Spikes  Under Armour   \n",
       "331          Under Armour Centric Grip Throw Shoes  Under Armour   \n",
       "\n",
       "                                 model   price  discount  discount_%  \\\n",
       "0               adizero Prime X Strung  299.95      0.00        0.00   \n",
       "1                  adizero Adios Pro 3  250.00    175.00       70.00   \n",
       "2                 adizero Takumi Sen 9  179.95      0.00        0.00   \n",
       "3                    adizero Boston 11  160.00    127.95       79.97   \n",
       "4                           Adizero SL  120.00     95.95       79.96   \n",
       "..                                 ...     ...       ...         ...   \n",
       "327   Flow Velociti Elite Unisex Shoes  249.95      0.00        0.00   \n",
       "328             Shakedown Elite Spikes  149.95      0.00        0.00   \n",
       "329              HOVR Shakedown Spikes  119.95      0.00        0.00   \n",
       "330             HOVR Skyline LJ Spikes   99.95      0.00        0.00   \n",
       "331           Centric Grip Throw Shoes   89.95      0.00        0.00   \n",
       "\n",
       "              sex               colour cushioning stability  \\\n",
       "0          unisex           Pulse Mint    Maximal   Neutral   \n",
       "1          unisex       White Tint/Blk       High   Neutral   \n",
       "2          unisex           Pulse Mint     Medium   Neutral   \n",
       "3    Men's Shoes      White/Black/Blue       High   Neutral   \n",
       "4    Men's Shoes    Solar Red/Ink/Blue       High   Neutral   \n",
       "..            ...                  ...        ...       ...   \n",
       "327         women             White/Bk     Medium   Neutral   \n",
       "328        unisex                White        NaN       NaN   \n",
       "329        unisex            Halo Gray        NaN       NaN   \n",
       "330        unisex                 Gray        NaN       NaN   \n",
       "331        unisex                Black        NaN       NaN   \n",
       "\n",
       "                                      best_use_surface  \\\n",
       "0    Fast Runs,Cushioned Comfort,Racing,Roads and P...   \n",
       "1                            Racing,Roads and Pavement   \n",
       "2                            Racing,Roads and Pavement   \n",
       "3              All Around,Fast Runs,Roads and Pavement   \n",
       "4                        All Around,Roads and Pavement   \n",
       "..                                                 ...   \n",
       "327                          Racing,Roads and Pavement   \n",
       "328                 800-1500m,Distance (3k-10k),Rubber   \n",
       "329    800-1500m,Distance (3k-10k),Steeplechase,Rubber   \n",
       "330                                                NaN   \n",
       "331                     Shot Put/Discus/Hammer,Asphalt   \n",
       "\n",
       "                                               midsole  \\\n",
       "0    Lightstrike Profoam compound offers high rebou...   \n",
       "1    LightstrikePROis a lightweight midsole compoun...   \n",
       "2    Lightstrike Prois a lightweight midsole compou...   \n",
       "3    LightStrike Prois a lightweight midsole compou...   \n",
       "4    LIGHTSTRIKEfoam provides comfortably soft and ...   \n",
       "..                                                 ...   \n",
       "327  UA Super Critical Flow is lightweight, respons...   \n",
       "328  Pelletized Pebax Foamin the midsole creates a ...   \n",
       "329  HOVR Cushioning System includes a soft UA HOVR...   \n",
       "330  HOVR Cushioning System includes a soft UA HOVR...   \n",
       "331  HOVR Cushioning System includes a soft UA HOVR...   \n",
       "\n",
       "                                               outsole  \\\n",
       "0    Continental Rubber offers flexible durability ...   \n",
       "1    Rubberin the forefootoffers flexible durabilit...   \n",
       "2    Continental Rubberin the forefootoffers maximu...   \n",
       "3    Continental Rubberoffers flexible durability w...   \n",
       "4    STRATEGICALLY PLACED RUBBER for optimized grip...   \n",
       "..                                                 ...   \n",
       "327  UA Super Critical Flow Foamhas excellent tract...   \n",
       "328  Full-length Pebax plate providesa structured a...   \n",
       "329  Perimeter Pebax Plate provides traction and im...   \n",
       "330  3/4 LX90 Pebax Plate provides stiffness for li...   \n",
       "331  Durable Rubber provides traction and a smooth ...   \n",
       "\n",
       "                                                 upper  \\\n",
       "0    One-Piece Strung Upperis engineered using inno...   \n",
       "1    Single-Layer Celermeshis lightweight, breathab...   \n",
       "2    Primegreenmesh is lightweight, breathable, and...   \n",
       "3      Lightweight Meshis breathable and supportive.     \n",
       "4    ENGINEERED MESH that is soft and adaptable wit...   \n",
       "..                                                 ...   \n",
       "327  UA WARP 2.0 Upperprovides a breathable and lig...   \n",
       "328  UA WARP Upperprovides a breathable and lightwe...   \n",
       "329  Embroidered upper uses high-strength yarn for ...   \n",
       "330  Embroidered upper uses high-strength yarn for ...   \n",
       "331  Embroidered upper uses high-strength yarn for ...   \n",
       "\n",
       "                                            link_shoes  \n",
       "0    https://www.runningwarehouse.com/adidas_adizer...  \n",
       "1    https://www.runningwarehouse.com/adidas_adizer...  \n",
       "2    https://www.runningwarehouse.com/adidas_adizer...  \n",
       "3    https://www.runningwarehouse.com/adidas_adizer...  \n",
       "4    https://www.runningwarehouse.com/adidas_Adizer...  \n",
       "..                                                 ...  \n",
       "327  https://www.runningwarehouse.com/Under_Armour_...  \n",
       "328  https://www.runningwarehouse.com/Under_Armour_...  \n",
       "329  https://www.runningwarehouse.com/Under_Armour_...  \n",
       "330  https://www.runningwarehouse.com/Under_Armour_...  \n",
       "331  https://www.runningwarehouse.com/Under_Armour_...  \n",
       "\n",
       "[332 rows x 15 columns]"
      ]
     },
     "execution_count": 5,
     "metadata": {},
     "output_type": "execute_result"
    }
   ],
   "source": [
    "men = men.drop_duplicates(subset = \"title\", ignore_index = True)\n",
    "men = men.drop(\"Unnamed: 0\", axis = 1)\n",
    "\n",
    "men"
   ]
  },
  {
   "cell_type": "code",
   "execution_count": 6,
   "id": "f0f6a7f8",
   "metadata": {},
   "outputs": [
    {
     "data": {
      "text/html": [
       "<div>\n",
       "<style scoped>\n",
       "    .dataframe tbody tr th:only-of-type {\n",
       "        vertical-align: middle;\n",
       "    }\n",
       "\n",
       "    .dataframe tbody tr th {\n",
       "        vertical-align: top;\n",
       "    }\n",
       "\n",
       "    .dataframe thead th {\n",
       "        text-align: right;\n",
       "    }\n",
       "</style>\n",
       "<table border=\"1\" class=\"dataframe\">\n",
       "  <thead>\n",
       "    <tr style=\"text-align: right;\">\n",
       "      <th></th>\n",
       "      <th>title</th>\n",
       "      <th>brand</th>\n",
       "      <th>model</th>\n",
       "      <th>price</th>\n",
       "      <th>discount</th>\n",
       "      <th>discount_%</th>\n",
       "      <th>sex</th>\n",
       "      <th>colour</th>\n",
       "      <th>cushioning</th>\n",
       "      <th>stability</th>\n",
       "      <th>best_use_surface</th>\n",
       "      <th>midsole</th>\n",
       "      <th>outsole</th>\n",
       "      <th>upper</th>\n",
       "      <th>link_shoes</th>\n",
       "    </tr>\n",
       "  </thead>\n",
       "  <tbody>\n",
       "    <tr>\n",
       "      <th>0</th>\n",
       "      <td>adidas adizero Prime X Strung</td>\n",
       "      <td>adidas</td>\n",
       "      <td>adizero Prime X Strung</td>\n",
       "      <td>299.95</td>\n",
       "      <td>0.00</td>\n",
       "      <td>0.00</td>\n",
       "      <td>unisex</td>\n",
       "      <td>Pulse Mint</td>\n",
       "      <td>Maximal</td>\n",
       "      <td>Neutral</td>\n",
       "      <td>Fast Runs,Cushioned Comfort,Racing,Roads and P...</td>\n",
       "      <td>Lightstrike Profoam compound offers high rebou...</td>\n",
       "      <td>Continental Rubber offers flexible durability ...</td>\n",
       "      <td>One-Piece Strung Upperis engineered using inno...</td>\n",
       "      <td>https://www.runningwarehouse.com/adidas_adizer...</td>\n",
       "    </tr>\n",
       "    <tr>\n",
       "      <th>1</th>\n",
       "      <td>adidas adizero Adios Pro 3</td>\n",
       "      <td>adidas</td>\n",
       "      <td>adizero Adios Pro 3</td>\n",
       "      <td>250.00</td>\n",
       "      <td>175.00</td>\n",
       "      <td>70.00</td>\n",
       "      <td>unisex</td>\n",
       "      <td>White Tint/Blk</td>\n",
       "      <td>High</td>\n",
       "      <td>Neutral</td>\n",
       "      <td>Racing,Roads and Pavement</td>\n",
       "      <td>LightstrikePROis a lightweight midsole compoun...</td>\n",
       "      <td>Rubberin the forefootoffers flexible durabilit...</td>\n",
       "      <td>Single-Layer Celermeshis lightweight, breathab...</td>\n",
       "      <td>https://www.runningwarehouse.com/adidas_adizer...</td>\n",
       "    </tr>\n",
       "    <tr>\n",
       "      <th>4</th>\n",
       "      <td>adidas adizero Takumi Sen 9</td>\n",
       "      <td>adidas</td>\n",
       "      <td>adizero Takumi Sen 9</td>\n",
       "      <td>179.95</td>\n",
       "      <td>0.00</td>\n",
       "      <td>0.00</td>\n",
       "      <td>unisex</td>\n",
       "      <td>Pulse Mint</td>\n",
       "      <td>Medium</td>\n",
       "      <td>Neutral</td>\n",
       "      <td>Racing,Roads and Pavement</td>\n",
       "      <td>Lightstrike Prois a lightweight midsole compou...</td>\n",
       "      <td>Continental Rubberin the forefootoffers maximu...</td>\n",
       "      <td>Primegreenmesh is lightweight, breathable, and...</td>\n",
       "      <td>https://www.runningwarehouse.com/adidas_adizer...</td>\n",
       "    </tr>\n",
       "    <tr>\n",
       "      <th>7</th>\n",
       "      <td>adidas adizero Boston 11</td>\n",
       "      <td>adidas</td>\n",
       "      <td>adizero Boston 11</td>\n",
       "      <td>160.00</td>\n",
       "      <td>127.95</td>\n",
       "      <td>79.97</td>\n",
       "      <td>women</td>\n",
       "      <td>Pulse Mint/White</td>\n",
       "      <td>High</td>\n",
       "      <td>Neutral</td>\n",
       "      <td>All Around,Fast Runs,Roads and Pavement</td>\n",
       "      <td>LightStrike Prois a lightweight midsole compou...</td>\n",
       "      <td>Continental Rubberoffers flexible durability w...</td>\n",
       "      <td>Lightweight Meshis breathable and supportive.</td>\n",
       "      <td>https://www.runningwarehouse.com/adidas_adizer...</td>\n",
       "    </tr>\n",
       "    <tr>\n",
       "      <th>10</th>\n",
       "      <td>adidas adizero Adios 7</td>\n",
       "      <td>adidas</td>\n",
       "      <td>adizero Adios 7</td>\n",
       "      <td>130.00</td>\n",
       "      <td>104.00</td>\n",
       "      <td>80.00</td>\n",
       "      <td>women</td>\n",
       "      <td>Pulse Mint/Silver</td>\n",
       "      <td>Medium</td>\n",
       "      <td>Neutral</td>\n",
       "      <td>Fast Runs,Roads and Pavement</td>\n",
       "      <td>Lightstrike Prois a lightweight midsole compou...</td>\n",
       "      <td>Continental Rubber Outsolein the forefoot offe...</td>\n",
       "      <td>Lightweight Open Meshthroughout provides breat...</td>\n",
       "      <td>https://www.runningwarehouse.com/adidas_adizer...</td>\n",
       "    </tr>\n",
       "    <tr>\n",
       "      <th>...</th>\n",
       "      <td>...</td>\n",
       "      <td>...</td>\n",
       "      <td>...</td>\n",
       "      <td>...</td>\n",
       "      <td>...</td>\n",
       "      <td>...</td>\n",
       "      <td>...</td>\n",
       "      <td>...</td>\n",
       "      <td>...</td>\n",
       "      <td>...</td>\n",
       "      <td>...</td>\n",
       "      <td>...</td>\n",
       "      <td>...</td>\n",
       "      <td>...</td>\n",
       "      <td>...</td>\n",
       "    </tr>\n",
       "    <tr>\n",
       "      <th>996</th>\n",
       "      <td>Under Armour Centric Grip Throw Shoes</td>\n",
       "      <td>Under Armour</td>\n",
       "      <td>Centric Grip Throw Shoes</td>\n",
       "      <td>89.95</td>\n",
       "      <td>0.00</td>\n",
       "      <td>0.00</td>\n",
       "      <td>unisex</td>\n",
       "      <td>Black</td>\n",
       "      <td>NaN</td>\n",
       "      <td>NaN</td>\n",
       "      <td>Shot Put/Discus/Hammer,Asphalt</td>\n",
       "      <td>HOVR Cushioning System includes a soft UA HOVR...</td>\n",
       "      <td>Durable Rubber provides traction and a smooth ...</td>\n",
       "      <td>Embroidered upper uses high-strength yarn for ...</td>\n",
       "      <td>https://www.runningwarehouse.com/Under_Armour_...</td>\n",
       "    </tr>\n",
       "    <tr>\n",
       "      <th>997</th>\n",
       "      <td>Under Armour Shakedown Elite Spikes</td>\n",
       "      <td>Under Armour</td>\n",
       "      <td>Shakedown Elite Spikes</td>\n",
       "      <td>149.95</td>\n",
       "      <td>0.00</td>\n",
       "      <td>0.00</td>\n",
       "      <td>unisex</td>\n",
       "      <td>White</td>\n",
       "      <td>NaN</td>\n",
       "      <td>NaN</td>\n",
       "      <td>800-1500m,Distance (3k-10k),Rubber</td>\n",
       "      <td>Pelletized Pebax Foamin the midsole creates a ...</td>\n",
       "      <td>Full-length Pebax plate providesa structured a...</td>\n",
       "      <td>UA WARP Upperprovides a breathable and lightwe...</td>\n",
       "      <td>https://www.runningwarehouse.com/Under_Armour_...</td>\n",
       "    </tr>\n",
       "    <tr>\n",
       "      <th>998</th>\n",
       "      <td>Under Armour HOVR Shakedown Spikes</td>\n",
       "      <td>Under Armour</td>\n",
       "      <td>HOVR Shakedown Spikes</td>\n",
       "      <td>119.95</td>\n",
       "      <td>0.00</td>\n",
       "      <td>0.00</td>\n",
       "      <td>unisex</td>\n",
       "      <td>Halo Gray</td>\n",
       "      <td>NaN</td>\n",
       "      <td>NaN</td>\n",
       "      <td>800-1500m,Distance (3k-10k),Steeplechase,Rubber</td>\n",
       "      <td>HOVR Cushioning System includes a soft UA HOVR...</td>\n",
       "      <td>Perimeter Pebax Plate provides traction and im...</td>\n",
       "      <td>Embroidered upper uses high-strength yarn for ...</td>\n",
       "      <td>https://www.runningwarehouse.com/Under_Armour_...</td>\n",
       "    </tr>\n",
       "    <tr>\n",
       "      <th>999</th>\n",
       "      <td>Under Armour HOVR Skyline LJ Spikes</td>\n",
       "      <td>Under Armour</td>\n",
       "      <td>HOVR Skyline LJ Spikes</td>\n",
       "      <td>99.95</td>\n",
       "      <td>0.00</td>\n",
       "      <td>0.00</td>\n",
       "      <td>unisex</td>\n",
       "      <td>Gray</td>\n",
       "      <td>NaN</td>\n",
       "      <td>NaN</td>\n",
       "      <td>NaN</td>\n",
       "      <td>HOVR Cushioning System includes a soft UA HOVR...</td>\n",
       "      <td>3/4 LX90 Pebax Plate provides stiffness for li...</td>\n",
       "      <td>Embroidered upper uses high-strength yarn for ...</td>\n",
       "      <td>https://www.runningwarehouse.com/Under_Armour_...</td>\n",
       "    </tr>\n",
       "    <tr>\n",
       "      <th>1000</th>\n",
       "      <td>Under Armour Kick Distance 4 Spikes</td>\n",
       "      <td>Under Armour</td>\n",
       "      <td>Kick Distance 4 Spikes</td>\n",
       "      <td>70.00</td>\n",
       "      <td>39.88</td>\n",
       "      <td>56.97</td>\n",
       "      <td>unisex</td>\n",
       "      <td>White/Bk/Mt</td>\n",
       "      <td>NaN</td>\n",
       "      <td>NaN</td>\n",
       "      <td>Distance (3k-10k),Rubber</td>\n",
       "      <td>Micro-G Cushioning creates a balance of cushio...</td>\n",
       "      <td>Perimeter Pebax Plateprovides traction and imp...</td>\n",
       "      <td>Embroidered upperuses high-strength yarn for a...</td>\n",
       "      <td>https://www.runningwarehouse.com/Under_Armour_...</td>\n",
       "    </tr>\n",
       "  </tbody>\n",
       "</table>\n",
       "<p>341 rows × 15 columns</p>\n",
       "</div>"
      ],
      "text/plain": [
       "                                      title         brand  \\\n",
       "0             adidas adizero Prime X Strung        adidas   \n",
       "1                adidas adizero Adios Pro 3        adidas   \n",
       "4               adidas adizero Takumi Sen 9        adidas   \n",
       "7                  adidas adizero Boston 11        adidas   \n",
       "10                   adidas adizero Adios 7        adidas   \n",
       "...                                     ...           ...   \n",
       "996   Under Armour Centric Grip Throw Shoes  Under Armour   \n",
       "997     Under Armour Shakedown Elite Spikes  Under Armour   \n",
       "998      Under Armour HOVR Shakedown Spikes  Under Armour   \n",
       "999     Under Armour HOVR Skyline LJ Spikes  Under Armour   \n",
       "1000    Under Armour Kick Distance 4 Spikes  Under Armour   \n",
       "\n",
       "                          model   price  discount  discount_%     sex  \\\n",
       "0        adizero Prime X Strung  299.95      0.00        0.00  unisex   \n",
       "1           adizero Adios Pro 3  250.00    175.00       70.00  unisex   \n",
       "4          adizero Takumi Sen 9  179.95      0.00        0.00  unisex   \n",
       "7             adizero Boston 11  160.00    127.95       79.97   women   \n",
       "10              adizero Adios 7  130.00    104.00       80.00   women   \n",
       "...                         ...     ...       ...         ...     ...   \n",
       "996    Centric Grip Throw Shoes   89.95      0.00        0.00  unisex   \n",
       "997      Shakedown Elite Spikes  149.95      0.00        0.00  unisex   \n",
       "998       HOVR Shakedown Spikes  119.95      0.00        0.00  unisex   \n",
       "999      HOVR Skyline LJ Spikes   99.95      0.00        0.00  unisex   \n",
       "1000     Kick Distance 4 Spikes   70.00     39.88       56.97  unisex   \n",
       "\n",
       "                  colour cushioning stability  \\\n",
       "0             Pulse Mint    Maximal   Neutral   \n",
       "1         White Tint/Blk       High   Neutral   \n",
       "4             Pulse Mint     Medium   Neutral   \n",
       "7       Pulse Mint/White       High   Neutral   \n",
       "10     Pulse Mint/Silver     Medium   Neutral   \n",
       "...                  ...        ...       ...   \n",
       "996                Black        NaN       NaN   \n",
       "997                White        NaN       NaN   \n",
       "998            Halo Gray        NaN       NaN   \n",
       "999                 Gray        NaN       NaN   \n",
       "1000         White/Bk/Mt        NaN       NaN   \n",
       "\n",
       "                                       best_use_surface  \\\n",
       "0     Fast Runs,Cushioned Comfort,Racing,Roads and P...   \n",
       "1                             Racing,Roads and Pavement   \n",
       "4                             Racing,Roads and Pavement   \n",
       "7               All Around,Fast Runs,Roads and Pavement   \n",
       "10                         Fast Runs,Roads and Pavement   \n",
       "...                                                 ...   \n",
       "996                      Shot Put/Discus/Hammer,Asphalt   \n",
       "997                  800-1500m,Distance (3k-10k),Rubber   \n",
       "998     800-1500m,Distance (3k-10k),Steeplechase,Rubber   \n",
       "999                                                 NaN   \n",
       "1000                           Distance (3k-10k),Rubber   \n",
       "\n",
       "                                                midsole  \\\n",
       "0     Lightstrike Profoam compound offers high rebou...   \n",
       "1     LightstrikePROis a lightweight midsole compoun...   \n",
       "4     Lightstrike Prois a lightweight midsole compou...   \n",
       "7     LightStrike Prois a lightweight midsole compou...   \n",
       "10    Lightstrike Prois a lightweight midsole compou...   \n",
       "...                                                 ...   \n",
       "996   HOVR Cushioning System includes a soft UA HOVR...   \n",
       "997   Pelletized Pebax Foamin the midsole creates a ...   \n",
       "998   HOVR Cushioning System includes a soft UA HOVR...   \n",
       "999   HOVR Cushioning System includes a soft UA HOVR...   \n",
       "1000  Micro-G Cushioning creates a balance of cushio...   \n",
       "\n",
       "                                                outsole  \\\n",
       "0     Continental Rubber offers flexible durability ...   \n",
       "1     Rubberin the forefootoffers flexible durabilit...   \n",
       "4     Continental Rubberin the forefootoffers maximu...   \n",
       "7     Continental Rubberoffers flexible durability w...   \n",
       "10    Continental Rubber Outsolein the forefoot offe...   \n",
       "...                                                 ...   \n",
       "996   Durable Rubber provides traction and a smooth ...   \n",
       "997   Full-length Pebax plate providesa structured a...   \n",
       "998   Perimeter Pebax Plate provides traction and im...   \n",
       "999   3/4 LX90 Pebax Plate provides stiffness for li...   \n",
       "1000  Perimeter Pebax Plateprovides traction and imp...   \n",
       "\n",
       "                                                  upper  \\\n",
       "0     One-Piece Strung Upperis engineered using inno...   \n",
       "1     Single-Layer Celermeshis lightweight, breathab...   \n",
       "4     Primegreenmesh is lightweight, breathable, and...   \n",
       "7       Lightweight Meshis breathable and supportive.     \n",
       "10    Lightweight Open Meshthroughout provides breat...   \n",
       "...                                                 ...   \n",
       "996   Embroidered upper uses high-strength yarn for ...   \n",
       "997   UA WARP Upperprovides a breathable and lightwe...   \n",
       "998   Embroidered upper uses high-strength yarn for ...   \n",
       "999   Embroidered upper uses high-strength yarn for ...   \n",
       "1000  Embroidered upperuses high-strength yarn for a...   \n",
       "\n",
       "                                             link_shoes  \n",
       "0     https://www.runningwarehouse.com/adidas_adizer...  \n",
       "1     https://www.runningwarehouse.com/adidas_adizer...  \n",
       "4     https://www.runningwarehouse.com/adidas_adizer...  \n",
       "7     https://www.runningwarehouse.com/adidas_adizer...  \n",
       "10    https://www.runningwarehouse.com/adidas_adizer...  \n",
       "...                                                 ...  \n",
       "996   https://www.runningwarehouse.com/Under_Armour_...  \n",
       "997   https://www.runningwarehouse.com/Under_Armour_...  \n",
       "998   https://www.runningwarehouse.com/Under_Armour_...  \n",
       "999   https://www.runningwarehouse.com/Under_Armour_...  \n",
       "1000  https://www.runningwarehouse.com/Under_Armour_...  \n",
       "\n",
       "[341 rows x 15 columns]"
      ]
     },
     "execution_count": 6,
     "metadata": {},
     "output_type": "execute_result"
    }
   ],
   "source": [
    "women = women.drop_duplicates(subset = \"title\")\n",
    "women = women.drop(\"Unnamed: 0\", axis = 1)\n",
    "\n",
    "women"
   ]
  },
  {
   "cell_type": "code",
   "execution_count": 7,
   "id": "d2d2103f",
   "metadata": {
    "scrolled": true
   },
   "outputs": [
    {
     "data": {
      "text/plain": [
       "array(['unisex', \"Men's Shoes \", 'men', 'women'], dtype=object)"
      ]
     },
     "execution_count": 7,
     "metadata": {},
     "output_type": "execute_result"
    }
   ],
   "source": [
    "men[\"sex\"].unique()"
   ]
  },
  {
   "cell_type": "code",
   "execution_count": 8,
   "id": "6fc99d82",
   "metadata": {},
   "outputs": [
    {
     "data": {
      "text/plain": [
       "Men's Shoes     245\n",
       "unisex           73\n",
       "men              13\n",
       "women             1\n",
       "Name: sex, dtype: int64"
      ]
     },
     "execution_count": 8,
     "metadata": {},
     "output_type": "execute_result"
    }
   ],
   "source": [
    "men[\"sex\"].value_counts()"
   ]
  },
  {
   "cell_type": "code",
   "execution_count": 9,
   "id": "143ae7b1",
   "metadata": {},
   "outputs": [
    {
     "data": {
      "text/plain": [
       "Men's Shoes     245\n",
       "men              13\n",
       "Name: sex, dtype: int64"
      ]
     },
     "execution_count": 9,
     "metadata": {},
     "output_type": "execute_result"
    }
   ],
   "source": [
    "mens = [\"Men's Shoes \", \"men\", \"Mens Shoes \"] # i do this conditional selection because we have other sex values than men\n",
    "\n",
    "filt_men = men[\"sex\"].isin(mens) \n",
    "\n",
    "men[\"sex\"][filt_men].value_counts()"
   ]
  },
  {
   "cell_type": "code",
   "execution_count": 10,
   "id": "7556cf71",
   "metadata": {},
   "outputs": [
    {
     "data": {
      "text/plain": [
       "array(['unisex', 'women'], dtype=object)"
      ]
     },
     "execution_count": 10,
     "metadata": {},
     "output_type": "execute_result"
    }
   ],
   "source": [
    "women[\"sex\"].unique()"
   ]
  },
  {
   "cell_type": "code",
   "execution_count": 11,
   "id": "aa6e8719",
   "metadata": {},
   "outputs": [
    {
     "data": {
      "text/plain": [
       "women     267\n",
       "unisex     74\n",
       "Name: sex, dtype: int64"
      ]
     },
     "execution_count": 11,
     "metadata": {},
     "output_type": "execute_result"
    }
   ],
   "source": [
    "women[\"sex\"].value_counts()"
   ]
  },
  {
   "cell_type": "code",
   "execution_count": 12,
   "id": "834974a6",
   "metadata": {},
   "outputs": [
    {
     "data": {
      "text/plain": [
       "women    267\n",
       "Name: sex, dtype: int64"
      ]
     },
     "execution_count": 12,
     "metadata": {},
     "output_type": "execute_result"
    }
   ],
   "source": [
    "filt_women = women[\"sex\"] == \"women\"\n",
    "\n",
    "women[\"sex\"][filt_women].value_counts()"
   ]
  },
  {
   "cell_type": "code",
   "execution_count": 13,
   "id": "89506307",
   "metadata": {},
   "outputs": [
    {
     "data": {
      "text/plain": [
       "151.8748689138578"
      ]
     },
     "execution_count": 13,
     "metadata": {},
     "output_type": "execute_result"
    }
   ],
   "source": [
    "women[\"price\"][filt_women].mean()"
   ]
  },
  {
   "cell_type": "code",
   "execution_count": 14,
   "id": "6fd1497c",
   "metadata": {},
   "outputs": [
    {
     "data": {
      "text/plain": [
       "151.84383720930245"
      ]
     },
     "execution_count": 14,
     "metadata": {},
     "output_type": "execute_result"
    }
   ],
   "source": [
    "men[\"price\"][filt_men].mean()"
   ]
  },
  {
   "cell_type": "markdown",
   "id": "1ea9924b",
   "metadata": {},
   "source": [
    "# **1. On avergae which shoes are more expensive? men or women?**"
   ]
  },
  {
   "cell_type": "code",
   "execution_count": 15,
   "id": "f62b4204",
   "metadata": {},
   "outputs": [
    {
     "data": {
      "text/plain": [
       "149.29870481927705"
      ]
     },
     "execution_count": 15,
     "metadata": {},
     "output_type": "execute_result"
    }
   ],
   "source": [
    "men[\"price\"].mean()"
   ]
  },
  {
   "cell_type": "code",
   "execution_count": 16,
   "id": "09b9d013",
   "metadata": {},
   "outputs": [
    {
     "data": {
      "text/plain": [
       "148.8624633431084"
      ]
     },
     "execution_count": 16,
     "metadata": {},
     "output_type": "execute_result"
    }
   ],
   "source": [
    "women[\"price\"].mean()"
   ]
  },
  {
   "cell_type": "markdown",
   "id": "3d875867",
   "metadata": {},
   "source": [
    "Let's find the distribution of prices between these two datasets of men and women"
   ]
  },
  {
   "cell_type": "code",
   "execution_count": 17,
   "id": "097ce9c0",
   "metadata": {},
   "outputs": [
    {
     "data": {
      "image/png": "[encoded data removed]",
      "text/plain": [
       "<Figure size 640x480 with 2 Axes>"
      ]
     },
     "metadata": {},
     "output_type": "display_data"
    }
   ],
   "source": [
    "fig, (ax1, ax2) = plt.subplots(1, 2)\n",
    "\n",
    "ax1.hist(men[\"price\"], bins = 40, color = \"#01a3a4\", label = \"men\")\n",
    "ax1.set_title(\"MEN\")\n",
    "ax1.set_xlabel(\"Men Price shoes $\")\n",
    "ax1.set_ylabel(\"Ocurrences\")\n",
    "\n",
    "ax2.hist(women[\"price\"], bins = 40, color = \"#5f27cd\", label = \"women\")\n",
    "ax2.set_title(\"WOMEN\")\n",
    "ax2.set_xlabel(\"Women Price shoes $\")\n",
    "\n",
    "plt.tight_layout()"
   ]
  },
  {
   "cell_type": "code",
   "execution_count": 18,
   "id": "700f180b",
   "metadata": {},
   "outputs": [
    {
     "data": {
      "text/plain": [
       "49.95"
      ]
     },
     "execution_count": 18,
     "metadata": {},
     "output_type": "execute_result"
    }
   ],
   "source": [
    "men[\"price\"].min()"
   ]
  },
  {
   "cell_type": "code",
   "execution_count": 19,
   "id": "7b60e7b4",
   "metadata": {},
   "outputs": [
    {
     "data": {
      "text/html": [
       "<div>\n",
       "<style scoped>\n",
       "    .dataframe tbody tr th:only-of-type {\n",
       "        vertical-align: middle;\n",
       "    }\n",
       "\n",
       "    .dataframe tbody tr th {\n",
       "        vertical-align: top;\n",
       "    }\n",
       "\n",
       "    .dataframe thead th {\n",
       "        text-align: right;\n",
       "    }\n",
       "</style>\n",
       "<table border=\"1\" class=\"dataframe\">\n",
       "  <thead>\n",
       "    <tr style=\"text-align: right;\">\n",
       "      <th></th>\n",
       "      <th>title</th>\n",
       "      <th>brand</th>\n",
       "      <th>model</th>\n",
       "      <th>price</th>\n",
       "      <th>discount</th>\n",
       "      <th>discount_%</th>\n",
       "      <th>sex</th>\n",
       "      <th>colour</th>\n",
       "      <th>cushioning</th>\n",
       "      <th>stability</th>\n",
       "      <th>best_use_surface</th>\n",
       "      <th>midsole</th>\n",
       "      <th>outsole</th>\n",
       "      <th>upper</th>\n",
       "      <th>link_shoes</th>\n",
       "    </tr>\n",
       "  </thead>\n",
       "  <tbody>\n",
       "    <tr>\n",
       "      <th>77</th>\n",
       "      <td>Birkenstock Arizona EVA</td>\n",
       "      <td>Birkenstock</td>\n",
       "      <td>Arizona EVA</td>\n",
       "      <td>49.95</td>\n",
       "      <td>0.0</td>\n",
       "      <td>0.0</td>\n",
       "      <td>men</td>\n",
       "      <td>Black</td>\n",
       "      <td>NaN</td>\n",
       "      <td>NaN</td>\n",
       "      <td>NaN</td>\n",
       "      <td>no information</td>\n",
       "      <td>no information</td>\n",
       "      <td>no information</td>\n",
       "      <td>https://www.runningwarehouse.com/Birkenstock_A...</td>\n",
       "    </tr>\n",
       "  </tbody>\n",
       "</table>\n",
       "</div>"
      ],
      "text/plain": [
       "                      title        brand        model  price  discount  \\\n",
       "77  Birkenstock Arizona EVA  Birkenstock  Arizona EVA  49.95       0.0   \n",
       "\n",
       "    discount_%  sex  colour cushioning stability best_use_surface  \\\n",
       "77         0.0  men   Black        NaN       NaN              NaN   \n",
       "\n",
       "           midsole         outsole           upper  \\\n",
       "77  no information  no information  no information   \n",
       "\n",
       "                                           link_shoes  \n",
       "77  https://www.runningwarehouse.com/Birkenstock_A...  "
      ]
     },
     "execution_count": 19,
     "metadata": {},
     "output_type": "execute_result"
    }
   ],
   "source": [
    "fil_min = men[\"price\"] == 49.95\n",
    "\n",
    "men[fil_min]"
   ]
  },
  {
   "cell_type": "code",
   "execution_count": 20,
   "id": "8ecfba60",
   "metadata": {},
   "outputs": [
    {
     "data": {
      "text/plain": [
       "299.95"
      ]
     },
     "execution_count": 20,
     "metadata": {},
     "output_type": "execute_result"
    }
   ],
   "source": [
    "men[\"price\"].max()"
   ]
  },
  {
   "cell_type": "code",
   "execution_count": 21,
   "id": "557b2a2f",
   "metadata": {},
   "outputs": [
    {
     "data": {
      "text/plain": [
       "49.95"
      ]
     },
     "execution_count": 21,
     "metadata": {},
     "output_type": "execute_result"
    }
   ],
   "source": [
    "women[\"price\"].min()"
   ]
  },
  {
   "cell_type": "code",
   "execution_count": 22,
   "id": "d99467e2",
   "metadata": {},
   "outputs": [
    {
     "data": {
      "text/html": [
       "<div>\n",
       "<style scoped>\n",
       "    .dataframe tbody tr th:only-of-type {\n",
       "        vertical-align: middle;\n",
       "    }\n",
       "\n",
       "    .dataframe tbody tr th {\n",
       "        vertical-align: top;\n",
       "    }\n",
       "\n",
       "    .dataframe thead th {\n",
       "        text-align: right;\n",
       "    }\n",
       "</style>\n",
       "<table border=\"1\" class=\"dataframe\">\n",
       "  <thead>\n",
       "    <tr style=\"text-align: right;\">\n",
       "      <th></th>\n",
       "      <th>title</th>\n",
       "      <th>brand</th>\n",
       "      <th>model</th>\n",
       "      <th>price</th>\n",
       "      <th>discount</th>\n",
       "      <th>discount_%</th>\n",
       "      <th>sex</th>\n",
       "      <th>colour</th>\n",
       "      <th>cushioning</th>\n",
       "      <th>stability</th>\n",
       "      <th>best_use_surface</th>\n",
       "      <th>midsole</th>\n",
       "      <th>outsole</th>\n",
       "      <th>upper</th>\n",
       "      <th>link_shoes</th>\n",
       "    </tr>\n",
       "  </thead>\n",
       "  <tbody>\n",
       "    <tr>\n",
       "      <th>244</th>\n",
       "      <td>Birkenstock Arizona EVA</td>\n",
       "      <td>Birkenstock</td>\n",
       "      <td>Arizona EVA</td>\n",
       "      <td>49.95</td>\n",
       "      <td>0.0</td>\n",
       "      <td>0.0</td>\n",
       "      <td>women</td>\n",
       "      <td>White</td>\n",
       "      <td>NaN</td>\n",
       "      <td>NaN</td>\n",
       "      <td>NaN</td>\n",
       "      <td>EVA foamis light, insulated, and sustainable.</td>\n",
       "      <td>Rubber outsolewith strategic groove placement ...</td>\n",
       "      <td>Adjustable Strapswrap across the top of the mi...</td>\n",
       "      <td>https://www.runningwarehouse.com/Birkenstock_A...</td>\n",
       "    </tr>\n",
       "  </tbody>\n",
       "</table>\n",
       "</div>"
      ],
      "text/plain": [
       "                       title        brand        model  price  discount  \\\n",
       "244  Birkenstock Arizona EVA  Birkenstock  Arizona EVA  49.95       0.0   \n",
       "\n",
       "     discount_%    sex  colour cushioning stability best_use_surface  \\\n",
       "244         0.0  women   White        NaN       NaN              NaN   \n",
       "\n",
       "                                           midsole  \\\n",
       "244  EVA foamis light, insulated, and sustainable.   \n",
       "\n",
       "                                               outsole  \\\n",
       "244  Rubber outsolewith strategic groove placement ...   \n",
       "\n",
       "                                                 upper  \\\n",
       "244  Adjustable Strapswrap across the top of the mi...   \n",
       "\n",
       "                                            link_shoes  \n",
       "244  https://www.runningwarehouse.com/Birkenstock_A...  "
      ]
     },
     "execution_count": 22,
     "metadata": {},
     "output_type": "execute_result"
    }
   ],
   "source": [
    "fil_min = women[\"price\"] == 49.95\n",
    "\n",
    "women[fil_min]"
   ]
  },
  {
   "cell_type": "code",
   "execution_count": 23,
   "id": "c4561fcf",
   "metadata": {},
   "outputs": [
    {
     "data": {
      "text/plain": [
       "299.95"
      ]
     },
     "execution_count": 23,
     "metadata": {},
     "output_type": "execute_result"
    }
   ],
   "source": [
    "women[\"price\"].max()"
   ]
  },
  {
   "cell_type": "markdown",
   "id": "84ed1d09",
   "metadata": {},
   "source": [
    "**It is a strange website, it looks like the shoes are the same no matter what the sex is for, wheter it is for men or women.**"
   ]
  },
  {
   "cell_type": "markdown",
   "id": "ddd933e2",
   "metadata": {},
   "source": [
    "histogram of prices between 100 and 200 dollars"
   ]
  },
  {
   "cell_type": "code",
   "execution_count": 24,
   "id": "3e966fd3",
   "metadata": {},
   "outputs": [],
   "source": [
    "filter_price_men = (men[\"price\"] >= 100) & (men[\"price\"] <= 200)\n",
    "filter_price_women = (women[\"price\"] >= 100) & (women[\"price\"] <= 200)"
   ]
  },
  {
   "cell_type": "code",
   "execution_count": 25,
   "id": "8ce68e36",
   "metadata": {},
   "outputs": [
    {
     "data": {
      "image/png": "[encoded data removed]",
      "text/plain": [
       "<Figure size 640x480 with 2 Axes>"
      ]
     },
     "metadata": {},
     "output_type": "display_data"
    }
   ],
   "source": [
    "fig, (ax1, ax2) = plt.subplots(1, 2)\n",
    "\n",
    "ax1.hist(men[filter_price_men][\"price\"], bins = 40, color = \"#01a3a4\", label = \"men\")\n",
    "ax1.set_title(\"MEN\")\n",
    "ax1.set_xlabel(\"Men Price shoes $\")\n",
    "ax1.set_ylabel(\"Ocurrences\")\n",
    "\n",
    "ax2.hist(women[filter_price_women][\"price\"], bins = 40, color = \"#5f27cd\", label = \"women\")\n",
    "ax2.set_title(\"WOMEN\")\n",
    "ax2.set_xlabel(\"Women Price shoes $\")\n",
    "\n",
    "plt.tight_layout()"
   ]
  },
  {
   "cell_type": "markdown",
   "id": "b4f47c8c",
   "metadata": {},
   "source": [
    "Looks like the price distribution is between 125 and 175 dollars mainly"
   ]
  },
  {
   "cell_type": "markdown",
   "id": "3488cb61",
   "metadata": {},
   "source": [
    "# **2. Is there a relationship between price and cushioning?**"
   ]
  },
  {
   "cell_type": "code",
   "execution_count": 26,
   "id": "6de88b47",
   "metadata": {},
   "outputs": [
    {
     "data": {
      "text/plain": [
       "0      Maximal\n",
       "1         High\n",
       "2       Medium\n",
       "3         High\n",
       "4         High\n",
       "        ...   \n",
       "327     Medium\n",
       "328        NaN\n",
       "329        NaN\n",
       "330        NaN\n",
       "331        NaN\n",
       "Name: cushioning, Length: 332, dtype: object"
      ]
     },
     "execution_count": 26,
     "metadata": {},
     "output_type": "execute_result"
    }
   ],
   "source": [
    "men[\"cushioning\"]"
   ]
  },
  {
   "cell_type": "code",
   "execution_count": 27,
   "id": "cd29f952",
   "metadata": {},
   "outputs": [
    {
     "data": {
      "text/plain": [
       "array(['Maximal', 'High', 'Medium', 'Minimal', 'Low', nan], dtype=object)"
      ]
     },
     "execution_count": 27,
     "metadata": {},
     "output_type": "execute_result"
    }
   ],
   "source": [
    "men[\"cushioning\"].unique()"
   ]
  },
  {
   "cell_type": "code",
   "execution_count": 28,
   "id": "22a066db",
   "metadata": {},
   "outputs": [
    {
     "data": {
      "text/plain": [
       "0      Maximal\n",
       "1         High\n",
       "2       Medium\n",
       "3         High\n",
       "4         High\n",
       "        ...   \n",
       "327     Medium\n",
       "328    no info\n",
       "329    no info\n",
       "330    no info\n",
       "331    no info\n",
       "Name: cushioning, Length: 332, dtype: object"
      ]
     },
     "execution_count": 28,
     "metadata": {},
     "output_type": "execute_result"
    }
   ],
   "source": [
    "men[\"cushioning\"] = men[\"cushioning\"].replace(np.nan, \"no info\")\n",
    "men[\"cushioning\"]"
   ]
  },
  {
   "cell_type": "markdown",
   "id": "8e48d077",
   "metadata": {},
   "source": [
    "Groupby is very useful in these cases."
   ]
  },
  {
   "cell_type": "code",
   "execution_count": 29,
   "id": "f78e52ac",
   "metadata": {},
   "outputs": [
    {
     "data": {
      "text/html": [
       "<div>\n",
       "<style scoped>\n",
       "    .dataframe tbody tr th:only-of-type {\n",
       "        vertical-align: middle;\n",
       "    }\n",
       "\n",
       "    .dataframe tbody tr th {\n",
       "        vertical-align: top;\n",
       "    }\n",
       "\n",
       "    .dataframe thead th {\n",
       "        text-align: right;\n",
       "    }\n",
       "</style>\n",
       "<table border=\"1\" class=\"dataframe\">\n",
       "  <thead>\n",
       "    <tr style=\"text-align: right;\">\n",
       "      <th></th>\n",
       "      <th>price</th>\n",
       "      <th>discount</th>\n",
       "      <th>discount_%</th>\n",
       "    </tr>\n",
       "    <tr>\n",
       "      <th>cushioning</th>\n",
       "      <th></th>\n",
       "      <th></th>\n",
       "      <th></th>\n",
       "    </tr>\n",
       "  </thead>\n",
       "  <tbody>\n",
       "    <tr>\n",
       "      <th>Minimal</th>\n",
       "      <td>112.121429</td>\n",
       "      <td>14.965714</td>\n",
       "      <td>15.915714</td>\n",
       "    </tr>\n",
       "    <tr>\n",
       "      <th>no info</th>\n",
       "      <td>122.060395</td>\n",
       "      <td>30.630789</td>\n",
       "      <td>20.427237</td>\n",
       "    </tr>\n",
       "    <tr>\n",
       "      <th>Low</th>\n",
       "      <td>147.840698</td>\n",
       "      <td>43.393721</td>\n",
       "      <td>28.665349</td>\n",
       "    </tr>\n",
       "    <tr>\n",
       "      <th>Medium</th>\n",
       "      <td>150.135798</td>\n",
       "      <td>46.655546</td>\n",
       "      <td>31.662269</td>\n",
       "    </tr>\n",
       "    <tr>\n",
       "      <th>High</th>\n",
       "      <td>172.915000</td>\n",
       "      <td>50.722206</td>\n",
       "      <td>31.243382</td>\n",
       "    </tr>\n",
       "    <tr>\n",
       "      <th>Maximal</th>\n",
       "      <td>185.484211</td>\n",
       "      <td>21.710526</td>\n",
       "      <td>11.578947</td>\n",
       "    </tr>\n",
       "  </tbody>\n",
       "</table>\n",
       "</div>"
      ],
      "text/plain": [
       "                 price   discount  discount_%\n",
       "cushioning                                   \n",
       "Minimal     112.121429  14.965714   15.915714\n",
       "no info     122.060395  30.630789   20.427237\n",
       "Low         147.840698  43.393721   28.665349\n",
       "Medium      150.135798  46.655546   31.662269\n",
       "High        172.915000  50.722206   31.243382\n",
       "Maximal     185.484211  21.710526   11.578947"
      ]
     },
     "execution_count": 29,
     "metadata": {},
     "output_type": "execute_result"
    }
   ],
   "source": [
    "mean_price_cushioning = men.groupby(\"cushioning\").mean()\n",
    "mean_price_cushioning = mean_price_cushioning.sort_values(\"price\")\n",
    "mean_price_cushioning"
   ]
  },
  {
   "cell_type": "code",
   "execution_count": 30,
   "id": "7740d3c1",
   "metadata": {},
   "outputs": [
    {
     "data": {
      "text/plain": [
       "Text(0, 0.5, 'Price in Dollars $')"
      ]
     },
     "execution_count": 30,
     "metadata": {},
     "output_type": "execute_result"
    },
    {
     "data": {
      "image/png": "[encoded data removed]",
      "text/plain": [
       "<Figure size 640x480 with 1 Axes>"
      ]
     },
     "metadata": {},
     "output_type": "display_data"
    }
   ],
   "source": [
    "scatter, ax = plt.subplots()\n",
    "\n",
    "ax.bar(mean_price_cushioning.index, mean_price_cushioning[\"price\"], color = \"#01a3a4\")\n",
    "ax.set_title(\"Cushioning Levels and Price\")\n",
    "ax.set_xlabel(\"Cushioning\")\n",
    "ax.set_ylabel(\"Price in Dollars $\")"
   ]
  },
  {
   "cell_type": "markdown",
   "id": "e9cd8d82",
   "metadata": {},
   "source": [
    "Indeed, the more cushioning we have, the more expensive the pair of running shoes will be. But what about the stability of the shoes?"
   ]
  },
  {
   "cell_type": "code",
   "execution_count": 31,
   "id": "6fb5a1eb",
   "metadata": {},
   "outputs": [
    {
     "data": {
      "text/html": [
       "<div>\n",
       "<style scoped>\n",
       "    .dataframe tbody tr th:only-of-type {\n",
       "        vertical-align: middle;\n",
       "    }\n",
       "\n",
       "    .dataframe tbody tr th {\n",
       "        vertical-align: top;\n",
       "    }\n",
       "\n",
       "    .dataframe thead th {\n",
       "        text-align: right;\n",
       "    }\n",
       "</style>\n",
       "<table border=\"1\" class=\"dataframe\">\n",
       "  <thead>\n",
       "    <tr style=\"text-align: right;\">\n",
       "      <th></th>\n",
       "      <th>price</th>\n",
       "      <th>discount</th>\n",
       "      <th>discount_%</th>\n",
       "    </tr>\n",
       "    <tr>\n",
       "      <th>stability</th>\n",
       "      <th></th>\n",
       "      <th></th>\n",
       "      <th></th>\n",
       "    </tr>\n",
       "  </thead>\n",
       "  <tbody>\n",
       "    <tr>\n",
       "      <th>Mod</th>\n",
       "      <td>143.613636</td>\n",
       "      <td>45.205455</td>\n",
       "      <td>31.734545</td>\n",
       "    </tr>\n",
       "    <tr>\n",
       "      <th>Min</th>\n",
       "      <td>144.970000</td>\n",
       "      <td>13.990000</td>\n",
       "      <td>12.718000</td>\n",
       "    </tr>\n",
       "    <tr>\n",
       "      <th>Max</th>\n",
       "      <td>157.475000</td>\n",
       "      <td>54.731250</td>\n",
       "      <td>36.135000</td>\n",
       "    </tr>\n",
       "    <tr>\n",
       "      <th>Neutral</th>\n",
       "      <td>158.302500</td>\n",
       "      <td>44.738147</td>\n",
       "      <td>29.114784</td>\n",
       "    </tr>\n",
       "  </tbody>\n",
       "</table>\n",
       "</div>"
      ],
      "text/plain": [
       "                price   discount  discount_%\n",
       "stability                                   \n",
       "Mod        143.613636  45.205455   31.734545\n",
       "Min        144.970000  13.990000   12.718000\n",
       "Max        157.475000  54.731250   36.135000\n",
       "Neutral    158.302500  44.738147   29.114784"
      ]
     },
     "execution_count": 31,
     "metadata": {},
     "output_type": "execute_result"
    }
   ],
   "source": [
    "mean_price_stability = men.groupby(\"stability\").mean()\n",
    "mean_price_stability = mean_price_stability.sort_values(\"price\")\n",
    "mean_price_stability"
   ]
  },
  {
   "cell_type": "markdown",
   "id": "6e42a473",
   "metadata": {},
   "source": [
    "let's see the mean for the stability in all of these shoes."
   ]
  },
  {
   "cell_type": "markdown",
   "id": "8a805a49",
   "metadata": {},
   "source": [
    "**Here is the category explanation for stability:**\n",
    "\n",
    "Neutral: These shoes are designed for runners who do not overpronate. They have a flat midsole and no built-in stability features.\n",
    "\n",
    "Minimal Stability: These shoes offer a mild level of stability for runners who are prone to overpronate. They have a slightly curved midsole and a medial post, which is a wedge of material that helps to prevent the foot from rolling inward.\n",
    "\n",
    "Moderate Stability: These shoes offer a moderate level of stability for runners who overpronate. They have a pronounced medial post and a wider base than neutral shoes.\n",
    "\n",
    "Maximum Stability: These shoes offer the highest level of stability for runners who overpronate severely. They have a very pronounced medial post and a very wide base."
   ]
  },
  {
   "cell_type": "code",
   "execution_count": 32,
   "id": "1f0f4561",
   "metadata": {},
   "outputs": [
    {
     "data": {
      "text/plain": [
       "Text(0, 0.5, 'Price in Dollars $')"
      ]
     },
     "execution_count": 32,
     "metadata": {},
     "output_type": "execute_result"
    },
    {
     "data": {
      "image/png": "[encoded data removed]",
      "text/plain": [
       "<Figure size 640x480 with 1 Axes>"
      ]
     },
     "metadata": {},
     "output_type": "display_data"
    }
   ],
   "source": [
    "scatter, ax = plt.subplots()\n",
    "\n",
    "ax.bar(mean_price_stability.index, mean_price_stability[\"price\"], color = \"#01a3a4\")\n",
    "ax.set_xlabel(\"Stability\")\n",
    "ax.set_ylabel(\"Price in Dollars $\")"
   ]
  },
  {
   "cell_type": "markdown",
   "id": "8516cad3",
   "metadata": {},
   "source": [
    "with cushioning we have more change in the price of the shoe according to these two charts. But how about the distribution for each cushioning category?."
   ]
  },
  {
   "cell_type": "code",
   "execution_count": 33,
   "id": "064f1f36",
   "metadata": {},
   "outputs": [
    {
     "data": {
      "image/png": "[encoded data removed]",
      "text/plain": [
       "<Figure size 640x480 with 1 Axes>"
      ]
     },
     "metadata": {},
     "output_type": "display_data"
    }
   ],
   "source": [
    "plt.hist(men[men[\"cushioning\"] == \"Minimal\"][\"price\"], color = \"#01a3a4\", bins = 20)\n",
    "plt.show()"
   ]
  },
  {
   "cell_type": "code",
   "execution_count": 34,
   "id": "1c06baea",
   "metadata": {},
   "outputs": [
    {
     "data": {
      "image/png": "[encoded data removed]",
      "text/plain": [
       "<Figure size 640x480 with 1 Axes>"
      ]
     },
     "metadata": {},
     "output_type": "display_data"
    }
   ],
   "source": [
    "plt.hist(men[men[\"cushioning\"] == \"Low\"][\"price\"], color = \"#01a3a4\", bins = 20)\n",
    "plt.show()"
   ]
  },
  {
   "cell_type": "code",
   "execution_count": 35,
   "id": "309c5d4d",
   "metadata": {},
   "outputs": [
    {
     "data": {
      "image/png": "[encoded data removed]",
      "text/plain": [
       "<Figure size 640x480 with 1 Axes>"
      ]
     },
     "metadata": {},
     "output_type": "display_data"
    }
   ],
   "source": [
    "plt.hist(men[men[\"cushioning\"] == \"Medium\"][\"price\"], color = \"#01a3a4\", bins = 20)\n",
    "plt.show()"
   ]
  },
  {
   "cell_type": "code",
   "execution_count": 36,
   "id": "5119aa4a",
   "metadata": {},
   "outputs": [
    {
     "data": {
      "image/png": "[encoded data removed]",
      "text/plain": [
       "<Figure size 640x480 with 1 Axes>"
      ]
     },
     "metadata": {},
     "output_type": "display_data"
    }
   ],
   "source": [
    "plt.hist(men[men[\"cushioning\"] == \"High\"][\"price\"], color = \"#01a3a4\", bins = 20)\n",
    "plt.show()"
   ]
  },
  {
   "cell_type": "code",
   "execution_count": 37,
   "id": "cc70953a",
   "metadata": {},
   "outputs": [
    {
     "data": {
      "image/png": "[encoded data removed]",
      "text/plain": [
       "<Figure size 640x480 with 1 Axes>"
      ]
     },
     "metadata": {},
     "output_type": "display_data"
    }
   ],
   "source": [
    "plt.hist(men[men[\"cushioning\"] == \"Maximal\"][\"price\"], color = \"#01a3a4\", bins = 20)\n",
    "plt.show()"
   ]
  },
  {
   "cell_type": "markdown",
   "id": "5fc99048",
   "metadata": {},
   "source": [
    "Let's group all of these charts in one figure with matplotlib."
   ]
  },
  {
   "cell_type": "code",
   "execution_count": 38,
   "id": "1717728c",
   "metadata": {},
   "outputs": [
    {
     "data": {
      "image/png": "[encoded data removed]",
      "text/plain": [
       "<Figure size 640x480 with 6 Axes>"
      ]
     },
     "metadata": {},
     "output_type": "display_data"
    }
   ],
   "source": [
    "fig, axes = plt.subplots(2, 3)\n",
    "fig.suptitle(\"Distribution of prices by Cushioning\")\n",
    "\n",
    "# Plot the data on the figure object\n",
    "axes[0, 0].hist(men[men[\"cushioning\"] == \"Minimal\"][\"price\"], color = \"#01a3a4\", bins = 20)\n",
    "axes[0, 0].set_title(\"Minimal\")\n",
    "\n",
    "axes[0, 1].hist(men[men[\"cushioning\"] == \"Low\"][\"price\"], color = \"#01a3a4\", bins = 20)\n",
    "axes[0, 1].set_title(\"Low\")\n",
    "\n",
    "axes[0, 2].hist(men[men[\"cushioning\"] == \"Medium\"][\"price\"], color = \"#01a3a4\", bins = 20)\n",
    "axes[0, 2].set_title(\"Medium\")\n",
    "\n",
    "axes[1, 0].hist(men[men[\"cushioning\"] == \"High\"][\"price\"], color = \"#01a3a4\", bins = 20)\n",
    "axes[1, 0].set_title(\"High\")\n",
    "\n",
    "axes[1, 1].hist(men[men[\"cushioning\"] == \"Maximal\"][\"price\"], color = \"#01a3a4\", bins = 20)\n",
    "axes[1, 1].set_title(\"Maximal\")\n",
    "\n",
    "axes[1, 2].hist(men[men[\"cushioning\"] == \"no info\"][\"price\"], color = \"#01a3a4\", bins = 20)\n",
    "axes[1, 2].set_title(\"no info\")\n",
    "\n",
    "plt.tight_layout()\n",
    "plt.show()"
   ]
  },
  {
   "cell_type": "markdown",
   "id": "6470ad0f",
   "metadata": {},
   "source": [
    "# **3. Now let's look at the average price of these shoes per brand.**"
   ]
  },
  {
   "cell_type": "code",
   "execution_count": 39,
   "id": "e87aedda",
   "metadata": {},
   "outputs": [
    {
     "data": {
      "image/png": "[encoded data removed]",
      "text/plain": [
       "<Figure size 640x480 with 1 Axes>"
      ]
     },
     "metadata": {},
     "output_type": "display_data"
    }
   ],
   "source": [
    "average_brand = men.groupby(\"brand\").mean()\n",
    "\n",
    "average_brand = average_brand.sort_values(\"price\")\n",
    "\n",
    "plt.barh(average_brand.index, average_brand[\"price\"], color = \"#01a3a4\")\n",
    "plt.title(\"Average Price of brands\")\n",
    "plt.xlabel(\"price in dollars $\")\n",
    "plt.tight_layout()"
   ]
  },
  {
   "cell_type": "markdown",
   "id": "8060a1ad",
   "metadata": {},
   "source": [
    "But we need to see how many observations we had per brand."
   ]
  },
  {
   "cell_type": "code",
   "execution_count": 40,
   "id": "977181db",
   "metadata": {},
   "outputs": [],
   "source": [
    "count_brand = men.groupby(\"brand\").count() # here it is not the mean but the count function with groupby.\n",
    "\n",
    "count_brand = count_brand.sort_values(\"price\")"
   ]
  },
  {
   "cell_type": "code",
   "execution_count": 41,
   "id": "3787b459",
   "metadata": {},
   "outputs": [
    {
     "data": {
      "image/png": "[encoded data removed]",
      "text/plain": [
       "<Figure size 640x480 with 1 Axes>"
      ]
     },
     "metadata": {},
     "output_type": "display_data"
    }
   ],
   "source": [
    "plt.barh(count_brand.index, count_brand[\"price\"], color = \"#01a3a4\")\n",
    "plt.title(\"Observations per brands\")\n",
    "plt.xlabel(\"Number of observations\")\n",
    "plt.tight_layout()"
   ]
  },
  {
   "cell_type": "markdown",
   "id": "bdb9d0ea",
   "metadata": {},
   "source": [
    "# **4. % of running shoes that fall into different price ranges**"
   ]
  },
  {
   "cell_type": "markdown",
   "id": "958e8f12",
   "metadata": {},
   "source": [
    "the range of our prices is between 50 and 300 dollars, so lets create a pie chart to 5 categories of %, let's start with conditional selection and then create a pir chart based on these insights. "
   ]
  },
  {
   "cell_type": "code",
   "execution_count": 42,
   "id": "5937999a",
   "metadata": {},
   "outputs": [
    {
     "data": {
      "text/plain": [
       "40"
      ]
     },
     "execution_count": 42,
     "metadata": {},
     "output_type": "execute_result"
    }
   ],
   "source": [
    "filt_49_100 = (men[\"price\"] >= 49) & (men[\"price\"] <= 100)\n",
    "\n",
    "men[filt_49_100][\"price\"].count()"
   ]
  },
  {
   "cell_type": "code",
   "execution_count": 43,
   "id": "da564696",
   "metadata": {},
   "outputs": [
    {
     "data": {
      "text/plain": [
       "158"
      ]
     },
     "execution_count": 43,
     "metadata": {},
     "output_type": "execute_result"
    }
   ],
   "source": [
    "filt_100_150 = (men[\"price\"] > 100) & (men[\"price\"] <= 150)\n",
    "\n",
    "men[filt_100_150][\"price\"].count()"
   ]
  },
  {
   "cell_type": "code",
   "execution_count": 44,
   "id": "0e400b38",
   "metadata": {},
   "outputs": [
    {
     "data": {
      "text/plain": [
       "110"
      ]
     },
     "execution_count": 44,
     "metadata": {},
     "output_type": "execute_result"
    }
   ],
   "source": [
    "filt_150_200 = (men[\"price\"] > 150) & (men[\"price\"] <= 200)\n",
    "\n",
    "men[filt_150_200][\"price\"].count()"
   ]
  },
  {
   "cell_type": "code",
   "execution_count": 45,
   "id": "b945f085",
   "metadata": {},
   "outputs": [
    {
     "data": {
      "text/plain": [
       "21"
      ]
     },
     "execution_count": 45,
     "metadata": {},
     "output_type": "execute_result"
    }
   ],
   "source": [
    "filt_200_250 = (men[\"price\"] > 200) & (men[\"price\"] <= 250)\n",
    "\n",
    "men[filt_200_250][\"price\"].count()"
   ]
  },
  {
   "cell_type": "code",
   "execution_count": 46,
   "id": "97d95539",
   "metadata": {},
   "outputs": [
    {
     "data": {
      "text/plain": [
       "3"
      ]
     },
     "execution_count": 46,
     "metadata": {},
     "output_type": "execute_result"
    }
   ],
   "source": [
    "filt_250_300 = (men[\"price\"] > 250) & (men[\"price\"] <= 300)\n",
    "\n",
    "men[filt_250_300][\"price\"].count()"
   ]
  },
  {
   "cell_type": "code",
   "execution_count": 47,
   "id": "07f2f007",
   "metadata": {},
   "outputs": [
    {
     "data": {
      "image/png": "[encoded data removed]",
      "text/plain": [
       "<Figure size 640x480 with 1 Axes>"
      ]
     },
     "metadata": {},
     "output_type": "display_data"
    }
   ],
   "source": [
    "one = men[filt_49_100][\"price\"].count()\n",
    "two = men[filt_100_150][\"price\"].count()\n",
    "three = men[filt_150_200][\"price\"].count()\n",
    "four = men[filt_200_250][\"price\"].count()\n",
    "five = men[filt_250_300][\"price\"].count()\n",
    "\n",
    "fig = plt.figure()\n",
    "ax = fig.add_subplot()\n",
    "\n",
    "five_parts = [one, two, three, four, five]\n",
    "labels = [\"49-100$\", \"100-150$\", \"150-200$\", \"200-250$\", \"250-300$\"]\n",
    "colours = [\"#00d2d3\", \"#2e86de\", \"#ff9f43\", \"#ee5253\", \"#5f27cd\"]\n",
    "\n",
    "ax.pie(five_parts, colors = colours, autopct =\"%1.2f%%\", pctdistance = 1.17, wedgeprops= {\"edgecolor\": \"#222f3e\"})\n",
    "\n",
    "ax.set_title(\"Price Ranges Running Shoes\")\n",
    "ax.legend(labels, loc = [0.9, 0.05])\n",
    "fig.set_facecolor(\"#c8d6e5\")\n",
    "plt.show()"
   ]
  },
  {
   "cell_type": "markdown",
   "id": "71d7a83c",
   "metadata": {},
   "source": [
    "# **5. Where are the most discounted shoes in by brand?** "
   ]
  },
  {
   "cell_type": "markdown",
   "id": "4854be29",
   "metadata": {},
   "source": [
    "Which brands have more shoes in discount? Look for the numbers of shoes in discount per brand."
   ]
  },
  {
   "cell_type": "code",
   "execution_count": 48,
   "id": "91d6de92",
   "metadata": {},
   "outputs": [
    {
     "data": {
      "text/plain": [
       "0        0.00\n",
       "1      175.00\n",
       "2        0.00\n",
       "3      127.95\n",
       "4       95.95\n",
       "        ...  \n",
       "327      0.00\n",
       "328      0.00\n",
       "329      0.00\n",
       "330      0.00\n",
       "331      0.00\n",
       "Name: discount, Length: 332, dtype: float64"
      ]
     },
     "execution_count": 48,
     "metadata": {},
     "output_type": "execute_result"
    }
   ],
   "source": [
    "men[\"discount\"]"
   ]
  },
  {
   "cell_type": "code",
   "execution_count": 49,
   "id": "f548ef3f",
   "metadata": {},
   "outputs": [
    {
     "data": {
      "text/plain": [
       "0       no\n",
       "1      yes\n",
       "2       no\n",
       "3      yes\n",
       "4      yes\n",
       "      ... \n",
       "327     no\n",
       "328     no\n",
       "329     no\n",
       "330     no\n",
       "331     no\n",
       "Name: discount, Length: 332, dtype: object"
      ]
     },
     "execution_count": 49,
     "metadata": {},
     "output_type": "execute_result"
    }
   ],
   "source": [
    "def format_discount(price): # we are going to map the discount column with yes or no.\n",
    "    if price == 0.0:\n",
    "        price = \"no\"\n",
    "    else: \n",
    "        price = \"yes\"\n",
    "    return price\n",
    "\n",
    "men[\"discount\"] = men[\"discount\"].apply(format_discount)\n",
    "men[\"discount\"]"
   ]
  },
  {
   "cell_type": "markdown",
   "id": "3973edeb",
   "metadata": {},
   "source": [
    "Now it is time to find the number of ocurrences per brand that have discount, sort them and plot them with a bar chart."
   ]
  },
  {
   "cell_type": "code",
   "execution_count": 50,
   "id": "6713eb6a",
   "metadata": {},
   "outputs": [
    {
     "data": {
      "text/html": [
       "<div>\n",
       "<style scoped>\n",
       "    .dataframe tbody tr th:only-of-type {\n",
       "        vertical-align: middle;\n",
       "    }\n",
       "\n",
       "    .dataframe tbody tr th {\n",
       "        vertical-align: top;\n",
       "    }\n",
       "\n",
       "    .dataframe thead th {\n",
       "        text-align: right;\n",
       "    }\n",
       "</style>\n",
       "<table border=\"1\" class=\"dataframe\">\n",
       "  <thead>\n",
       "    <tr style=\"text-align: right;\">\n",
       "      <th></th>\n",
       "      <th>discount</th>\n",
       "    </tr>\n",
       "    <tr>\n",
       "      <th>brand</th>\n",
       "      <th></th>\n",
       "    </tr>\n",
       "  </thead>\n",
       "  <tbody>\n",
       "    <tr>\n",
       "      <th>ASICS</th>\n",
       "      <td>32</td>\n",
       "    </tr>\n",
       "    <tr>\n",
       "      <th>Altra</th>\n",
       "      <td>21</td>\n",
       "    </tr>\n",
       "    <tr>\n",
       "      <th>Birkenstock</th>\n",
       "      <td>4</td>\n",
       "    </tr>\n",
       "    <tr>\n",
       "      <th>Brooks</th>\n",
       "      <td>27</td>\n",
       "    </tr>\n",
       "    <tr>\n",
       "      <th>Craft</th>\n",
       "      <td>5</td>\n",
       "    </tr>\n",
       "    <tr>\n",
       "      <th>Deckers X Lab</th>\n",
       "      <td>3</td>\n",
       "    </tr>\n",
       "    <tr>\n",
       "      <th>HOKA</th>\n",
       "      <td>31</td>\n",
       "    </tr>\n",
       "    <tr>\n",
       "      <th>Mizuno</th>\n",
       "      <td>6</td>\n",
       "    </tr>\n",
       "    <tr>\n",
       "      <th>NNormal</th>\n",
       "      <td>1</td>\n",
       "    </tr>\n",
       "    <tr>\n",
       "      <th>New Balance</th>\n",
       "      <td>25</td>\n",
       "    </tr>\n",
       "    <tr>\n",
       "      <th>Nike</th>\n",
       "      <td>40</td>\n",
       "    </tr>\n",
       "    <tr>\n",
       "      <th>On</th>\n",
       "      <td>12</td>\n",
       "    </tr>\n",
       "    <tr>\n",
       "      <th>PUMA</th>\n",
       "      <td>8</td>\n",
       "    </tr>\n",
       "    <tr>\n",
       "      <th>Salomon</th>\n",
       "      <td>20</td>\n",
       "    </tr>\n",
       "    <tr>\n",
       "      <th>Saucony</th>\n",
       "      <td>38</td>\n",
       "    </tr>\n",
       "    <tr>\n",
       "      <th>Skechers Performance</th>\n",
       "      <td>6</td>\n",
       "    </tr>\n",
       "    <tr>\n",
       "      <th>The North Face</th>\n",
       "      <td>5</td>\n",
       "    </tr>\n",
       "    <tr>\n",
       "      <th>Topo Athletic</th>\n",
       "      <td>14</td>\n",
       "    </tr>\n",
       "    <tr>\n",
       "      <th>Under Armour</th>\n",
       "      <td>5</td>\n",
       "    </tr>\n",
       "    <tr>\n",
       "      <th>adidas</th>\n",
       "      <td>24</td>\n",
       "    </tr>\n",
       "    <tr>\n",
       "      <th>inov-8</th>\n",
       "      <td>5</td>\n",
       "    </tr>\n",
       "  </tbody>\n",
       "</table>\n",
       "</div>"
      ],
      "text/plain": [
       "                      discount\n",
       "brand                         \n",
       "ASICS                       32\n",
       "Altra                       21\n",
       "Birkenstock                  4\n",
       "Brooks                      27\n",
       "Craft                        5\n",
       "Deckers X Lab                3\n",
       "HOKA                        31\n",
       "Mizuno                       6\n",
       "NNormal                      1\n",
       "New Balance                 25\n",
       "Nike                        40\n",
       "On                          12\n",
       "PUMA                         8\n",
       "Salomon                     20\n",
       "Saucony                     38\n",
       "Skechers Performance         6\n",
       "The North Face               5\n",
       "Topo Athletic               14\n",
       "Under Armour                 5\n",
       "adidas                      24\n",
       "inov-8                       5"
      ]
     },
     "execution_count": 50,
     "metadata": {},
     "output_type": "execute_result"
    }
   ],
   "source": [
    "men[[\"brand\", \"discount\"]].groupby(\"brand\").count()"
   ]
  },
  {
   "cell_type": "code",
   "execution_count": 51,
   "id": "5f03a276",
   "metadata": {},
   "outputs": [
    {
     "data": {
      "text/html": [
       "<div>\n",
       "<style scoped>\n",
       "    .dataframe tbody tr th:only-of-type {\n",
       "        vertical-align: middle;\n",
       "    }\n",
       "\n",
       "    .dataframe tbody tr th {\n",
       "        vertical-align: top;\n",
       "    }\n",
       "\n",
       "    .dataframe thead th {\n",
       "        text-align: right;\n",
       "    }\n",
       "</style>\n",
       "<table border=\"1\" class=\"dataframe\">\n",
       "  <thead>\n",
       "    <tr style=\"text-align: right;\">\n",
       "      <th></th>\n",
       "      <th>discount</th>\n",
       "    </tr>\n",
       "    <tr>\n",
       "      <th>brand</th>\n",
       "      <th></th>\n",
       "    </tr>\n",
       "  </thead>\n",
       "  <tbody>\n",
       "    <tr>\n",
       "      <th>NNormal</th>\n",
       "      <td>1</td>\n",
       "    </tr>\n",
       "    <tr>\n",
       "      <th>Deckers X Lab</th>\n",
       "      <td>3</td>\n",
       "    </tr>\n",
       "    <tr>\n",
       "      <th>Birkenstock</th>\n",
       "      <td>4</td>\n",
       "    </tr>\n",
       "    <tr>\n",
       "      <th>Under Armour</th>\n",
       "      <td>5</td>\n",
       "    </tr>\n",
       "    <tr>\n",
       "      <th>The North Face</th>\n",
       "      <td>5</td>\n",
       "    </tr>\n",
       "    <tr>\n",
       "      <th>inov-8</th>\n",
       "      <td>5</td>\n",
       "    </tr>\n",
       "    <tr>\n",
       "      <th>Craft</th>\n",
       "      <td>5</td>\n",
       "    </tr>\n",
       "    <tr>\n",
       "      <th>Mizuno</th>\n",
       "      <td>6</td>\n",
       "    </tr>\n",
       "    <tr>\n",
       "      <th>Skechers Performance</th>\n",
       "      <td>6</td>\n",
       "    </tr>\n",
       "    <tr>\n",
       "      <th>PUMA</th>\n",
       "      <td>8</td>\n",
       "    </tr>\n",
       "    <tr>\n",
       "      <th>On</th>\n",
       "      <td>12</td>\n",
       "    </tr>\n",
       "    <tr>\n",
       "      <th>Topo Athletic</th>\n",
       "      <td>14</td>\n",
       "    </tr>\n",
       "    <tr>\n",
       "      <th>Salomon</th>\n",
       "      <td>20</td>\n",
       "    </tr>\n",
       "    <tr>\n",
       "      <th>Altra</th>\n",
       "      <td>21</td>\n",
       "    </tr>\n",
       "    <tr>\n",
       "      <th>adidas</th>\n",
       "      <td>24</td>\n",
       "    </tr>\n",
       "    <tr>\n",
       "      <th>New Balance</th>\n",
       "      <td>25</td>\n",
       "    </tr>\n",
       "    <tr>\n",
       "      <th>Brooks</th>\n",
       "      <td>27</td>\n",
       "    </tr>\n",
       "    <tr>\n",
       "      <th>HOKA</th>\n",
       "      <td>31</td>\n",
       "    </tr>\n",
       "    <tr>\n",
       "      <th>ASICS</th>\n",
       "      <td>32</td>\n",
       "    </tr>\n",
       "    <tr>\n",
       "      <th>Saucony</th>\n",
       "      <td>38</td>\n",
       "    </tr>\n",
       "    <tr>\n",
       "      <th>Nike</th>\n",
       "      <td>40</td>\n",
       "    </tr>\n",
       "  </tbody>\n",
       "</table>\n",
       "</div>"
      ],
      "text/plain": [
       "                      discount\n",
       "brand                         \n",
       "NNormal                      1\n",
       "Deckers X Lab                3\n",
       "Birkenstock                  4\n",
       "Under Armour                 5\n",
       "The North Face               5\n",
       "inov-8                       5\n",
       "Craft                        5\n",
       "Mizuno                       6\n",
       "Skechers Performance         6\n",
       "PUMA                         8\n",
       "On                          12\n",
       "Topo Athletic               14\n",
       "Salomon                     20\n",
       "Altra                       21\n",
       "adidas                      24\n",
       "New Balance                 25\n",
       "Brooks                      27\n",
       "HOKA                        31\n",
       "ASICS                       32\n",
       "Saucony                     38\n",
       "Nike                        40"
      ]
     },
     "execution_count": 51,
     "metadata": {},
     "output_type": "execute_result"
    }
   ],
   "source": [
    "discounts_brand = men[[\"brand\", \"discount\"]].groupby(\"brand\").count()\n",
    "discounts_brand = discounts_brand.sort_values(\"discount\")\n",
    "discounts_brand"
   ]
  },
  {
   "cell_type": "code",
   "execution_count": 52,
   "id": "7d533ad8",
   "metadata": {},
   "outputs": [
    {
     "data": {
      "image/png": "[encoded data removed]",
      "text/plain": [
       "<Figure size 640x480 with 1 Axes>"
      ]
     },
     "metadata": {},
     "output_type": "display_data"
    }
   ],
   "source": [
    "fig = plt.figure()\n",
    "ax = fig.add_subplot()\n",
    "\n",
    "ax.barh(discounts_brand.index, discounts_brand[\"discount\"], color = \"#01a3a4\")\n",
    "ax.set_title(\"Number of Discounts per brand\")\n",
    "ax.set_xlabel(\"Number\")\n",
    "ax.set_facecolor(\"#f1f2f6\")\n",
    "ax.grid(color = \"#2f3542\", linestyle = \"--\", linewidth = 0.5, axis = \"x\")\n",
    "\n",
    "plt.show()"
   ]
  },
  {
   "cell_type": "code",
   "execution_count": null,
   "id": "b531c309",
   "metadata": {},
   "outputs": [],
   "source": []
  }
 ],
 "metadata": {
  "kernelspec": {
   "display_name": "Python 3 (ipykernel)",
   "language": "python",
   "name": "python3"
  },
  "language_info": {
   "codemirror_mode": {
    "name": "ipython",
    "version": 3
   },
   "file_extension": ".py",
   "mimetype": "text/x-python",
   "name": "python",
   "nbconvert_exporter": "python",
   "pygments_lexer": "ipython3",
   "version": "3.9.13"
  }
 },
 "nbformat": 4,
 "nbformat_minor": 5
}
